{
 "cells": [
  {
   "cell_type": "markdown",
   "metadata": {},
   "source": [
    "# Homework03. B+tree Deletion 구현하기"
   ]
  },
  {
   "cell_type": "markdown",
   "metadata": {},
   "source": [
    "### 0. Tree 생성"
   ]
  },
  {
   "cell_type": "code",
   "execution_count": 1,
   "metadata": {},
   "outputs": [
    {
     "data": {
      "text/plain": [
       "<BPlusTree: database/homework03.db TreeConf(page_size=4096, order=5, key_size=32, value_size=32, serializer=StrSerializer())>"
      ]
     },
     "execution_count": 1,
     "metadata": {},
     "output_type": "execute_result"
    }
   ],
   "source": [
    "from bplustree import BPlusTree\n",
    "from bplustree.serializer import (IntSerializer, StrSerializer, UUIDSerializer, DatetimeUTCSerializer)\n",
    "import os\n",
    "\n",
    "if os.path.exists(\"database/homework03.db\"):\n",
    "      os.remove(\"database/homework03.db\")\n",
    "if os.path.exists(\"database/homework03.db-wal\"):\n",
    "      os.remove(\"database/homework03.db-wal\")\n",
    "\n",
    "tree = BPlusTree('database/homework03.db', key_size = 32, order=5, serializer=StrSerializer())\n",
    "tree"
   ]
  },
  {
   "cell_type": "markdown",
   "metadata": {},
   "source": [
    "### 1. Insert: key, value 쌍을 tree index에 삽입\n",
    "* 삽입 과정에서 leaf node와 parent node의 split을 확인할 수 있다."
   ]
  },
  {
   "cell_type": "code",
   "execution_count": 2,
   "metadata": {},
   "outputs": [
    {
     "name": "stdout",
     "output_type": "stream",
     "text": [
      "*** a insert ***\n",
      "insert complete\n",
      "\n",
      "\n",
      "*** b insert ***\n",
      "insert complete\n",
      "\n",
      "\n",
      "*** c insert ***\n",
      "insert complete\n",
      "\n",
      "\n",
      "*** d insert ***\n",
      "insert complete\n",
      "\n",
      "\n",
      "[#1: a, b, c, d, ]  \n",
      "\n",
      "*** e insert ***\n",
      "leaf node split\n",
      "insert complete\n",
      "\n",
      "\n",
      "[#3: c, ]  \n",
      "\n",
      "[#1: a, b, <parent #3>]  [#2: c, d, e, <parent #3>]  \n",
      "\n"
     ]
    }
   ],
   "source": [
    "tree.insert('a', b'1')\n",
    "tree.insert('b', b'2')\n",
    "tree.insert('c', b'3')\n",
    "tree.insert('d', b'4')\n",
    "tree.display()\n",
    "\n",
    "tree.insert('e', b'5')\n",
    "tree.display()"
   ]
  },
  {
   "cell_type": "code",
   "execution_count": 3,
   "metadata": {},
   "outputs": [
    {
     "name": "stdout",
     "output_type": "stream",
     "text": [
      "*** f insert ***\n",
      "insert complete\n",
      "\n",
      "\n",
      "*** g insert ***\n",
      "leaf node split\n",
      "insert complete\n",
      "\n",
      "\n",
      "*** h insert ***\n",
      "insert complete\n",
      "\n",
      "\n",
      "*** i insert ***\n",
      "leaf node split\n",
      "insert complete\n",
      "\n",
      "\n",
      "*** j insert ***\n",
      "insert complete\n",
      "\n",
      "\n",
      "*** k insert ***\n",
      "leaf node split\n",
      "insert complete\n",
      "\n",
      "\n",
      "*** l insert ***\n",
      "insert complete\n",
      "\n",
      "\n",
      "*** m insert ***\n",
      "leaf node split\n",
      "Parent(Interior) Node Split\n",
      "New Root Node create\n",
      "insert complete\n",
      "\n",
      "\n",
      "[#9: g, ]  \n",
      "\n",
      "[#3: c, e, <parent #9>]  [#8: i, k, <parent #9>]  \n",
      "\n",
      "[#1: a, b, <parent #3>]  [#2: c, d, <parent #3>]  [#4: e, f, <parent #3>]  [#5: g, h, <parent #8>]  [#6: i, j, <parent #8>]  [#7: k, l, m, <parent #8>]  \n",
      "\n"
     ]
    }
   ],
   "source": [
    "tree.insert('f', b'6')\n",
    "tree.insert('g', b'7')\n",
    "tree.insert('h', b'8')\n",
    "tree.insert('i', b'9')\n",
    "tree.insert('j', b'10')\n",
    "tree.insert('k', b'11')\n",
    "tree.insert('l', b'12')\n",
    "tree.insert('m', b'13')\n",
    "tree.display()"
   ]
  },
  {
   "cell_type": "code",
   "execution_count": 4,
   "metadata": {},
   "outputs": [
    {
     "name": "stdout",
     "output_type": "stream",
     "text": [
      "*** n insert ***\n",
      "insert complete\n",
      "\n",
      "\n",
      "*** o insert ***\n",
      "leaf node split\n",
      "insert complete\n",
      "\n",
      "\n",
      "*** p insert ***\n",
      "insert complete\n",
      "\n",
      "\n",
      "*** q insert ***\n",
      "leaf node split\n",
      "insert complete\n",
      "\n",
      "\n",
      "*** r insert ***\n",
      "insert complete\n",
      "\n",
      "\n",
      "*** s insert ***\n",
      "leaf node split\n",
      "Parent(Interior) Node Split\n",
      "insert complete\n",
      "\n",
      "\n",
      "*** t insert ***\n",
      "insert complete\n",
      "\n",
      "\n",
      "*** u insert ***\n",
      "leaf node split\n",
      "insert complete\n",
      "\n",
      "\n",
      "*** v insert ***\n",
      "insert complete\n",
      "\n",
      "\n",
      "*** w insert ***\n",
      "leaf node split\n",
      "insert complete\n",
      "\n",
      "\n",
      "*** x insert ***\n",
      "insert complete\n",
      "\n",
      "\n",
      "*** y insert ***\n",
      "leaf node split\n",
      "Parent(Interior) Node Split\n",
      "insert complete\n",
      "\n",
      "\n",
      "*** z insert ***\n",
      "insert complete\n",
      "\n",
      "\n",
      "*** za insert ***\n",
      "leaf node split\n",
      "insert complete\n",
      "\n",
      "\n",
      "*** zb insert ***\n",
      "insert complete\n",
      "\n",
      "\n",
      "*** zc insert ***\n",
      "leaf node split\n",
      "insert complete\n",
      "\n",
      "\n",
      "*** zd insert ***\n",
      "insert complete\n",
      "\n",
      "\n",
      "*** ze insert ***\n",
      "leaf node split\n",
      "Parent(Interior) Node Split\n",
      "insert complete\n",
      "\n",
      "\n",
      "*** zf insert ***\n",
      "insert complete\n",
      "\n",
      "\n",
      "*** zg insert ***\n",
      "leaf node split\n",
      "insert complete\n",
      "\n",
      "\n",
      "*** zh insert ***\n",
      "insert complete\n",
      "\n",
      "\n",
      "*** zi insert ***\n",
      "leaf node split\n",
      "insert complete\n",
      "\n",
      "\n",
      "*** zj insert ***\n",
      "insert complete\n",
      "\n",
      "\n",
      "*** zk insert ***\n",
      "leaf node split\n",
      "Parent(Interior) Node Split\n",
      "Parent(Interior) Node Split\n",
      "New Root Node create\n",
      "insert complete\n",
      "\n",
      "\n",
      "[#27: s, ]  \n",
      "\n",
      "[#9: g, m, <parent #27>]  [#26: y, ze, <parent #27>]  \n",
      "\n",
      "[#3: c, e, <parent #9>]  [#8: i, k, <parent #9>]  [#13: o, q, <parent #9>]  [#17: u, w, <parent #26>]  [#21: za, zc, <parent #26>]  [#25: zg, zi, <parent #26>]  \n",
      "\n",
      "[#1: a, b, <parent #3>]  [#2: c, d, <parent #3>]  [#4: e, f, <parent #3>]  [#5: g, h, <parent #8>]  [#6: i, j, <parent #8>]  [#7: k, l, <parent #8>]  [#10: m, n, <parent #13>]  [#11: o, p, <parent #13>]  [#12: q, r, <parent #13>]  [#14: s, t, <parent #17>]  [#15: u, v, <parent #17>]  [#16: w, x, <parent #17>]  [#18: y, z, <parent #21>]  [#19: za, zb, <parent #21>]  [#20: zc, zd, <parent #21>]  [#22: ze, zf, <parent #25>]  [#23: zg, zh, <parent #25>]  [#24: zi, zj, zk, <parent #25>]  \n",
      "\n"
     ]
    }
   ],
   "source": [
    "tree.insert('n', b'14')\n",
    "tree.insert('o', b'15')\n",
    "tree.insert('p', b'16')\n",
    "tree.insert('q', b'17')\n",
    "tree.insert('r', b'18')\n",
    "tree.insert('s', b'19')\n",
    "tree.insert('t', b'20')\n",
    "tree.insert('u', b'21')\n",
    "tree.insert('v', b'22')\n",
    "tree.insert('w', b'23')\n",
    "tree.insert('x', b'24')\n",
    "tree.insert('y', b'25')\n",
    "tree.insert('z', b'26')\n",
    "tree.insert('za', b'27')\n",
    "tree.insert('zb', b'28')\n",
    "tree.insert('zc', b'29')\n",
    "tree.insert('zd', b'30')\n",
    "tree.insert('ze', b'31')\n",
    "tree.insert('zf', b'32')\n",
    "tree.insert('zg', b'33')\n",
    "tree.insert('zh', b'34')\n",
    "tree.insert('zi', b'35')\n",
    "tree.insert('zj', b'36')\n",
    "tree.insert('zk', b'37')\n",
    "tree.display()"
   ]
  },
  {
   "cell_type": "code",
   "execution_count": 5,
   "metadata": {},
   "outputs": [
    {
     "name": "stdout",
     "output_type": "stream",
     "text": [
      "a b'1'\n",
      "b b'2'\n",
      "c b'3'\n",
      "d b'4'\n",
      "e b'5'\n",
      "f b'6'\n",
      "g b'7'\n",
      "h b'8'\n",
      "i b'9'\n",
      "j b'10'\n",
      "k b'11'\n",
      "l b'12'\n",
      "m b'13'\n",
      "n b'14'\n",
      "o b'15'\n",
      "p b'16'\n",
      "q b'17'\n",
      "r b'18'\n",
      "s b'19'\n",
      "t b'20'\n",
      "u b'21'\n",
      "v b'22'\n",
      "w b'23'\n",
      "x b'24'\n",
      "y b'25'\n",
      "z b'26'\n",
      "za b'27'\n",
      "zb b'28'\n",
      "zc b'29'\n",
      "zd b'30'\n",
      "ze b'31'\n",
      "zf b'32'\n",
      "zg b'33'\n",
      "zh b'34'\n",
      "zi b'35'\n",
      "zj b'36'\n",
      "zk b'37'\n"
     ]
    }
   ],
   "source": [
    "for key, value in tree.items():\n",
    "    print(key, value)"
   ]
  },
  {
   "cell_type": "markdown",
   "metadata": {},
   "source": [
    "### 2. Delete: key를 Tree에서 삭제\n",
    "* 삭제 과정에서 redistribute, merge 수행을 확인할 수 있다."
   ]
  },
  {
   "cell_type": "code",
   "execution_count": 6,
   "metadata": {},
   "outputs": [
    {
     "name": "stdout",
     "output_type": "stream",
     "text": [
      "*** j delete ***\n",
      "In LeafNode, delete entry\n",
      "Leaf Node merge\n",
      "Parent(interior) Node merge\n",
      "Parent(interior) Node merge\n",
      "Root Node Delete\n",
      "delete complete\n",
      "\n",
      "\n",
      "*** n delete ***\n",
      "In LeafNode, delete entry\n",
      "Leaf Node merge\n",
      "delete complete\n",
      "\n",
      "\n",
      "*** m delete ***\n",
      "In LeafNode, delete entry\n",
      "delete complete\n",
      "\n",
      "\n"
     ]
    }
   ],
   "source": [
    "tree.delete('j') #redistribute leaf\n",
    "tree.delete('n') #delete entry\n",
    "tree.delete('m') #merge leaf & merge parent"
   ]
  },
  {
   "cell_type": "code",
   "execution_count": 7,
   "metadata": {},
   "outputs": [
    {
     "name": "stdout",
     "output_type": "stream",
     "text": [
      "*** zg delete ***\n",
      "In LeafNode, delete entry\n",
      "Leaf Node redistribute\n",
      "delete complete\n",
      "\n",
      "\n",
      "[#9: g, s, y, ze, ]  \n",
      "\n",
      "[#3: c, e, <parent #9>]  [#8: i, o, q, <parent #9>]  [#17: u, w, <parent #9>]  [#21: za, zc, <parent #9>]  [#25: zh, zj, <parent #9>]  \n",
      "\n",
      "[#1: a, b, <parent #3>]  [#2: c, d, <parent #3>]  [#4: e, f, <parent #3>]  [#5: g, h, <parent #8>]  [#6: i, k, l, <parent #8>]  [#10: o, p, <parent #8>]  [#12: q, r, <parent #8>]  [#14: s, t, <parent #17>]  [#15: u, v, <parent #17>]  [#16: w, x, <parent #17>]  [#18: y, z, <parent #21>]  [#19: za, zb, <parent #21>]  [#20: zc, zd, <parent #21>]  [#22: ze, zf, <parent #25>]  [#23: zh, zi, <parent #25>]  [#24: zj, zk, <parent #25>]  \n",
      "\n"
     ]
    }
   ],
   "source": [
    "tree.delete('zg')\n",
    "tree.display()"
   ]
  },
  {
   "cell_type": "code",
   "execution_count": 8,
   "metadata": {},
   "outputs": [
    {
     "name": "stdout",
     "output_type": "stream",
     "text": [
      "*** zk delete ***\n",
      "In LeafNode, delete entry\n",
      "Leaf Node merge\n",
      "Parent(interior) Node merge\n",
      "delete complete\n",
      "\n",
      "\n",
      "[#9: g, s, y, ]  \n",
      "\n",
      "[#3: c, e, <parent #9>]  [#8: i, o, q, <parent #9>]  [#17: u, w, <parent #9>]  [#21: za, zc, ze, zh, <parent #9>]  \n",
      "\n",
      "[#1: a, b, <parent #3>]  [#2: c, d, <parent #3>]  [#4: e, f, <parent #3>]  [#5: g, h, <parent #8>]  [#6: i, k, l, <parent #8>]  [#10: o, p, <parent #8>]  [#12: q, r, <parent #8>]  [#14: s, t, <parent #17>]  [#15: u, v, <parent #17>]  [#16: w, x, <parent #17>]  [#18: y, z, <parent #21>]  [#19: za, zb, <parent #21>]  [#20: zc, zd, <parent #21>]  [#22: ze, zf, <parent #21>]  [#23: zh, zi, zj, <parent #21>]  \n",
      "\n"
     ]
    }
   ],
   "source": [
    "tree.delete('zk')\n",
    "tree.display()"
   ]
  },
  {
   "cell_type": "code",
   "execution_count": 9,
   "metadata": {},
   "outputs": [
    {
     "name": "stdout",
     "output_type": "stream",
     "text": [
      "*** zj delete ***\n",
      "In LeafNode, delete entry\n",
      "delete complete\n",
      "\n",
      "\n",
      "[#9: g, s, y, ]  \n",
      "\n",
      "[#3: c, e, <parent #9>]  [#8: i, o, q, <parent #9>]  [#17: u, w, <parent #9>]  [#21: za, zc, ze, zh, <parent #9>]  \n",
      "\n",
      "[#1: a, b, <parent #3>]  [#2: c, d, <parent #3>]  [#4: e, f, <parent #3>]  [#5: g, h, <parent #8>]  [#6: i, k, l, <parent #8>]  [#10: o, p, <parent #8>]  [#12: q, r, <parent #8>]  [#14: s, t, <parent #17>]  [#15: u, v, <parent #17>]  [#16: w, x, <parent #17>]  [#18: y, z, <parent #21>]  [#19: za, zb, <parent #21>]  [#20: zc, zd, <parent #21>]  [#22: ze, zf, <parent #21>]  [#23: zh, zi, <parent #21>]  \n",
      "\n"
     ]
    }
   ],
   "source": [
    "tree.delete('zj')\n",
    "tree.display()"
   ]
  },
  {
   "cell_type": "code",
   "execution_count": 10,
   "metadata": {},
   "outputs": [],
   "source": [
    "tree.close()"
   ]
  }
 ],
 "metadata": {
  "kernelspec": {
   "display_name": "Python 3",
   "language": "python",
   "name": "python3"
  },
  "language_info": {
   "codemirror_mode": {
    "name": "ipython",
    "version": 3
   },
   "file_extension": ".py",
   "mimetype": "text/x-python",
   "name": "python",
   "nbconvert_exporter": "python",
   "pygments_lexer": "ipython3",
   "version": "3.6.9"
  }
 },
 "nbformat": 4,
 "nbformat_minor": 4
}
